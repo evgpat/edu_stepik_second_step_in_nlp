{
  "cells": [
    {
      "cell_type": "markdown",
      "metadata": {
        "id": "YF7YwEmWOIDh"
      },
      "source": [
        "# Знакомство с PyTorch"
      ]
    },
    {
      "cell_type": "markdown",
      "metadata": {
        "id": "ZKiI8CPnOzIG"
      },
      "source": [
        "## Введение"
      ]
    },
    {
      "cell_type": "markdown",
      "metadata": {
        "id": "WEv7EaeN8fMf"
      },
      "source": [
        "Библиотека PyTorch является универсальным инструментом машинного обучения. Она популярна работе с нейронными сетями. Является open-source проектом. В библиотеке есть четыре ключевых составляющих:\n",
        "\n",
        "* Развитый инструментарий для работы с тензорами. Он похож на numpy, но даёт дополнительные возможности по контролю выделяемой памяти, что важно при работе с большими моделями и данными.\n",
        "\n",
        "* Простое построение динамического вычислительного графа, позволяющего получать градиенты целевых функций от параметров модели.\n",
        "\n",
        "* Большой набор готовых слоёв для построения нейронных сетей произвольной архитектуры.\n",
        "\n",
        "* Возможность перенаправлять вычисления на графические процессоры GPU.\n"
      ]
    },
    {
      "cell_type": "code",
      "execution_count": null,
      "metadata": {
        "colab": {
          "base_uri": "https://localhost:8080/"
        },
        "id": "fk3wRCkB82DP",
        "outputId": "70bf90f9-a3bd-4ff9-f89b-3975c3ba5f26"
      },
      "outputs": [
        {
          "output_type": "stream",
          "name": "stdout",
          "text": [
            "tensor([[1., 0., 0.],\n",
            "        [0., 1., 0.],\n",
            "        [0., 0., 1.]])\n"
          ]
        }
      ],
      "source": [
        "import torch\n",
        " \n",
        "e  = torch.eye(3) # единичная матрица 3x3\n",
        "print(e) "
      ]
    },
    {
      "cell_type": "markdown",
      "metadata": {
        "id": "-tv6nNU-O316"
      },
      "source": [
        "## Тензоры"
      ]
    },
    {
      "cell_type": "markdown",
      "metadata": {
        "id": "ulCtvFUp89Jv"
      },
      "source": [
        "Тензор - это основной объект в *PyTorch*. Тензоры схожи с *ndarrays* в *NumPy*, с добавлением того, что тензоры могут быть использованы на GPU для ускорения вычислений.\n",
        "\n",
        "* Тензор - это набор из элементов одного типа. \n",
        "* Тензоры могут быть одномерные (векторы), двумерные (матрицы), трехмерные и так далее - любой размерности."
      ]
    },
    {
      "cell_type": "code",
      "execution_count": null,
      "metadata": {
        "id": "w7WW-JOlL3k4",
        "colab": {
          "base_uri": "https://localhost:8080/"
        },
        "outputId": "bd98dabe-fd73-4931-f5b1-5c0b1574c1d4"
      },
      "outputs": [
        {
          "output_type": "execute_result",
          "data": {
            "text/plain": [
              "tensor([[0.3089, 0.9618, 0.1672],\n",
              "        [0.2231, 0.5418, 0.2646],\n",
              "        [0.0355, 0.6424, 0.1923],\n",
              "        [0.6987, 0.5001, 0.6931],\n",
              "        [0.0327, 0.4032, 0.3457]])"
            ]
          },
          "metadata": {},
          "execution_count": 14
        }
      ],
      "source": [
        "a = torch.rand(5, 3) # сгенерировали матрицу 5x3 из случайных чисел\n",
        "a"
      ]
    },
    {
      "cell_type": "code",
      "execution_count": null,
      "metadata": {
        "id": "2TmdhoetNG-K",
        "colab": {
          "base_uri": "https://localhost:8080/"
        },
        "outputId": "d0e1bd4c-ea2d-43e1-e565-2f406405fb24"
      },
      "outputs": [
        {
          "output_type": "execute_result",
          "data": {
            "text/plain": [
              "torch.Size([5, 3])"
            ]
          },
          "metadata": {},
          "execution_count": 15
        }
      ],
      "source": [
        "a.shape # посмотрели размеры"
      ]
    },
    {
      "cell_type": "code",
      "execution_count": null,
      "metadata": {
        "id": "nfwI1S5_NLpi",
        "colab": {
          "base_uri": "https://localhost:8080/"
        },
        "outputId": "28132455-8b9e-4553-bf35-e9209dc6f1cc"
      },
      "outputs": [
        {
          "output_type": "execute_result",
          "data": {
            "text/plain": [
              "tensor([[3.3089, 3.9618, 3.1672],\n",
              "        [3.2231, 3.5418, 3.2646],\n",
              "        [3.0355, 3.6424, 3.1923],\n",
              "        [3.6987, 3.5001, 3.6931],\n",
              "        [3.0327, 3.4032, 3.3457]])"
            ]
          },
          "metadata": {},
          "execution_count": 16
        }
      ],
      "source": [
        "a + 3 # добавили 3 ко всем элементам"
      ]
    },
    {
      "cell_type": "markdown",
      "metadata": {
        "id": "M5hjSPTDO-sz"
      },
      "source": [
        "## Вычисления на видеокарте"
      ]
    },
    {
      "cell_type": "markdown",
      "metadata": {
        "id": "mNuc0a4u7jfG"
      },
      "source": [
        "Если на компьютере есть графическая карта, то можно осуществлять вычисления на ней - обычно это ускоряет вычисления в разы.\n",
        "\n",
        "Проведем эксперимент:\n",
        "1. Сначала создадим две единичных матрицы большой размерности и перемножим их как обычно, используя мощности центрального процессора (CPU), засечем время.\n",
        "\n",
        "2. Затем создадим такие же тензоры, перенесем их на GPU, там сделаем умножение и вернем результат на CPU (можно сразу создавать тензоры на GPU, но обычно придерживаются первого варианта). Также замерим время и сравним."
      ]
    },
    {
      "cell_type": "markdown",
      "metadata": {
        "id": "XydU5LLg8Uh7"
      },
      "source": [
        "**Первый вариант (CPU)**"
      ]
    },
    {
      "cell_type": "code",
      "execution_count": null,
      "metadata": {
        "id": "UnVCohgS6thi",
        "colab": {
          "base_uri": "https://localhost:8080/"
        },
        "outputId": "d18ffbfc-9305-47f3-fb75-47b2f90edd98"
      },
      "outputs": [
        {
          "output_type": "stream",
          "name": "stdout",
          "text": [
            "CPU times: user 24.2 s, sys: 455 ms, total: 24.7 s\n",
            "Wall time: 24.7 s\n"
          ]
        }
      ],
      "source": [
        "%%time\n",
        "\n",
        "x1 = torch.eye(10000)\n",
        "y1 = torch.eye(10000)\n",
        "z1 = x1.mm(y1)   "
      ]
    },
    {
      "cell_type": "markdown",
      "metadata": {
        "id": "-Ou9KPPP8Y0k"
      },
      "source": [
        "**Второй вариант (GPU)**"
      ]
    },
    {
      "cell_type": "code",
      "execution_count": null,
      "metadata": {
        "id": "wKbDpqtg7AGX"
      },
      "outputs": [],
      "source": [
        "cpu = torch.device(\"cpu\")\n",
        "gpu = torch.device(\"cuda:0\" if torch.cuda.is_available() else \"cpu\")"
      ]
    },
    {
      "cell_type": "code",
      "execution_count": null,
      "metadata": {
        "id": "HvZH-1gF7VKx",
        "colab": {
          "base_uri": "https://localhost:8080/"
        },
        "outputId": "eb0d2319-e587-46dd-e645-aaf0a5a6bd1f"
      },
      "outputs": [
        {
          "output_type": "stream",
          "name": "stdout",
          "text": [
            "CPU times: user 817 ms, sys: 1.52 ms, total: 819 ms\n",
            "Wall time: 815 ms\n"
          ]
        }
      ],
      "source": [
        "%%time\n",
        "\n",
        "x1 = torch.eye(10000).to(gpu)\n",
        "y1 = torch.eye(10000).to(gpu)\n",
        "z1 = x1.mm(y1).to(cpu)  "
      ]
    },
    {
      "cell_type": "code",
      "source": [],
      "metadata": {
        "id": "1_t3NibLVNMC"
      },
      "execution_count": null,
      "outputs": []
    }
  ],
  "metadata": {
    "accelerator": "GPU",
    "colab": {
      "provenance": []
    },
    "gpuClass": "standard",
    "kernelspec": {
      "display_name": "Python 3",
      "name": "python3"
    },
    "language_info": {
      "name": "python"
    }
  },
  "nbformat": 4,
  "nbformat_minor": 0
}